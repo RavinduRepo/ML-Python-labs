{
 "cells": [
  {
   "cell_type": "markdown",
   "id": "c77bb95c",
   "metadata": {},
   "source": [
    "Import packages"
   ]
  },
  {
   "cell_type": "code",
   "execution_count": 1,
   "id": "c31c5211",
   "metadata": {},
   "outputs": [],
   "source": [
    "import numpy as np"
   ]
  },
  {
   "cell_type": "markdown",
   "id": "82b64ef6",
   "metadata": {},
   "source": [
    "#### Exercise 1: NumPy Advanced Operations"
   ]
  },
  {
   "cell_type": "markdown",
   "id": "aa314849",
   "metadata": {},
   "source": [
    "1.Create a random array of integers between 0 and 100"
   ]
  },
  {
   "cell_type": "code",
   "execution_count": 2,
   "id": "90604861",
   "metadata": {},
   "outputs": [
    {
     "name": "stdout",
     "output_type": "stream",
     "text": [
      "Original array:  [ 57  84  64  32  69  78   6   6  50  22   2   0  17  69  26  10  23  17\n",
      "  35  83  35  18  75  15  70  52  33  95  92  76  86  35   7  15  10  89\n",
      "  11  57  35  16  48  94  82  50  60  47  58  59  29  23  79  26  53  23\n",
      "   5  49  37  67 100  79  21  69  34  99  49  56  52  81  53  35  46  66\n",
      "   3  89  66  28  13  38  31  48  71  69  64  84  47  24  20  32  89  59\n",
      "  99  95  35  76  15  19  86  33  89   9  82  54  14  69  82   4  17  71\n",
      "  68  64  53  16   3  53  60   0  70  64  60  14  67  47  79  45   8  78\n",
      "  14  60  80  21  50  61  62  99  18  64  29  36  27  44  25  70  78  70\n",
      "  18  79  49  28   5  93  53   5  84  96  61  42  43  13  56  11  84  61\n",
      "   5  51  81  89  54  53   8  87   9  91  12  67  45  44  86  79  64  34\n",
      "  93  53  65  48  36  91  16  56  90  27  43  46  27  86  92  66  26  48\n",
      "  91  13]\n"
     ]
    }
   ],
   "source": [
    "arr =np.random.randint(0, 101, size=200)\n",
    "print(\"Original array: \", arr)"
   ]
  },
  {
   "cell_type": "markdown",
   "id": "32e7eae1",
   "metadata": {},
   "source": [
    "2.Create a mask for values greater than 50"
   ]
  },
  {
   "cell_type": "code",
   "execution_count": 3,
   "id": "56028608",
   "metadata": {},
   "outputs": [
    {
     "name": "stdout",
     "output_type": "stream",
     "text": [
      "Filtered array (values >= 50):  [ 57  84  64  69  78  50  69  83  75  70  52  95  92  76  86  89  57  94\n",
      "  82  50  60  58  59  79  53  67 100  79  69  99  56  52  81  53  66  89\n",
      "  66  71  69  64  84  89  59  99  95  76  86  89  82  54  69  82  71  68\n",
      "  64  53  53  60  70  64  60  67  79  78  60  80  50  61  62  99  64  70\n",
      "  78  70  79  93  53  84  96  61  56  84  61  51  81  89  54  53  87  91\n",
      "  67  86  79  64  93  53  65  91  56  90  86  92  66  91]\n"
     ]
    }
   ],
   "source": [
    "mask = arr >= 50\n",
    "filtered_arr = arr[mask]\n",
    "print(\"Filtered array (values >= 50): \", filtered_arr)"
   ]
  },
  {
   "cell_type": "markdown",
   "id": "01bab8f5",
   "metadata": {},
   "source": [
    "3.Demostrate boradcasting"
   ]
  },
  {
   "cell_type": "code",
   "execution_count": 4,
   "id": "767b4c6e",
   "metadata": {},
   "outputs": [
    {
     "name": "stdout",
     "output_type": "stream",
     "text": [
      "Small array:  [0 1 2 3 4]\n",
      "Large array: \n",
      " [[ 0  1  2  3  4]\n",
      " [ 5  6  7  8  9]\n",
      " [10 11 12 13 14]\n",
      " [15 16 17 18 19]]\n",
      "Result of broadcasting: \n",
      " [[ 0  2  4  6  8]\n",
      " [ 5  7  9 11 13]\n",
      " [10 12 14 16 18]\n",
      " [15 17 19 21 23]]\n"
     ]
    }
   ],
   "source": [
    "small = np.arange(5) # 0, 1, 2, 3, 4\n",
    "print(\"Small array: \", small)\n",
    "large = np.arange(20).reshape(4,5)\n",
    "print(\"Large array: \\n\", large)\n",
    "result = large + small # Broadcasting occurs here\n",
    "print(\"Result of broadcasting: \\n\", result)\n"
   ]
  },
  {
   "cell_type": "markdown",
   "id": "e4929108",
   "metadata": {},
   "source": [
    "4.Compute the dot product of two arrays of length 10"
   ]
  },
  {
   "cell_type": "code",
   "execution_count": 5,
   "id": "ad365778",
   "metadata": {},
   "outputs": [
    {
     "name": "stdout",
     "output_type": "stream",
     "text": [
      "Dot product of a and b:  19.74502366276779\n"
     ]
    }
   ],
   "source": [
    "a = np.random.rand(10)\n",
    "b = np.linspace(0, 9, 10)\n",
    "dp = np.dot(a, b)\n",
    "print(\"Dot product of a and b: \", dp)"
   ]
  },
  {
   "cell_type": "markdown",
   "id": "c837d052",
   "metadata": {},
   "source": [
    "#### Exercise 2: Matplotlib Subplots"
   ]
  },
  {
   "cell_type": "markdown",
   "id": "d648876a",
   "metadata": {},
   "source": [
    "1. Prepare data for sine and cosine functions:"
   ]
  },
  {
   "cell_type": "code",
   "execution_count": 6,
   "id": "3ff56978",
   "metadata": {},
   "outputs": [],
   "source": [
    "x = np.linspace(0, 2*np.pi, 200)\n",
    "y1 =np.sin(x)\n",
    "y2 =np.cos(x)"
   ]
  },
  {
   "cell_type": "markdown",
   "id": "f36f3d29",
   "metadata": {},
   "source": [
    "import plot\n"
   ]
  },
  {
   "cell_type": "code",
   "execution_count": 7,
   "id": "0e067694",
   "metadata": {},
   "outputs": [],
   "source": [
    "import matplotlib.pyplot as plt"
   ]
  },
  {
   "cell_type": "markdown",
   "id": "14153dbd",
   "metadata": {},
   "source": [
    "2. Create subplots:"
   ]
  },
  {
   "cell_type": "code",
   "execution_count": 8,
   "id": "be4d3a13",
   "metadata": {},
   "outputs": [
    {
     "data": {
      "image/png": "[encoded data removed]",
      "text/plain": [
       "<Figure size 1000x400 with 2 Axes>"
      ]
     },
     "metadata": {},
     "output_type": "display_data"
    }
   ],
   "source": [
    "fig, axes = plt.subplots(1, 2, sharex=True, figsize=(10, 4))\n",
    "axes[0].plot(x, y1)\n",
    "axes[0].set(title=\"Sine Wave\", xlabel=\"x\", ylabel=\"sin(x)\")\n",
    "axes[1].plot(x, y2)\n",
    "axes[1].set(title=\"Cosine Wave\", xlabel=\"x\", ylabel=\"cos(x)\")\n",
    "fig.suptitle(\"Sine and Cosine Functions\")\n",
    "plt.savefig('trig_functions.png')\n",
    "plt.show()\n"
   ]
  },
  {
   "cell_type": "markdown",
   "id": "46ae4f34",
   "metadata": {},
   "source": [
    "#### Exercise 3: Pandas Cleaning & Preprocessing"
   ]
  },
  {
   "cell_type": "markdown",
   "id": "278c92a9",
   "metadata": {},
   "source": [
    "1. Load Titanic dataset:"
   ]
  },
  {
   "cell_type": "code",
   "execution_count": 9,
   "id": "32fa4316",
   "metadata": {},
   "outputs": [
    {
     "name": "stdout",
     "output_type": "stream",
     "text": [
      "<class 'pandas.core.frame.DataFrame'>\n",
      "RangeIndex: 891 entries, 0 to 890\n",
      "Data columns (total 12 columns):\n",
      " #   Column       Non-Null Count  Dtype  \n",
      "---  ------       --------------  -----  \n",
      " 0   PassengerId  891 non-null    int64  \n",
      " 1   Survived     891 non-null    int64  \n",
      " 2   Pclass       891 non-null    int64  \n",
      " 3   Name         891 non-null    object \n",
      " 4   Sex          891 non-null    object \n",
      " 5   Age          714 non-null    float64\n",
      " 6   SibSp        891 non-null    int64  \n",
      " 7   Parch        891 non-null    int64  \n",
      " 8   Ticket       891 non-null    object \n",
      " 9   Fare         891 non-null    float64\n",
      " 10  Cabin        204 non-null    object \n",
      " 11  Embarked     889 non-null    object \n",
      "dtypes: float64(2), int64(5), object(5)\n",
      "memory usage: 83.7+ KB\n",
      "None\n"
     ]
    }
   ],
   "source": [
    "import pandas as pd\n",
    "url = 'https://raw.githubusercontent.com/datasciencedojo/datasets/master/titanic.csv'\n",
    "df = pd.read_csv(url)\n",
    "print(df.info())"
   ]
  },
  {
   "cell_type": "markdown",
   "id": "15fe6c58",
   "metadata": {},
   "source": [
    "2. Impute missing values:"
   ]
  },
  {
   "cell_type": "code",
   "execution_count": 10,
   "id": "3537bf0a",
   "metadata": {},
   "outputs": [
    {
     "name": "stderr",
     "output_type": "stream",
     "text": [
      "C:\\Users\\ravin\\AppData\\Local\\Temp\\ipykernel_11068\\3345290980.py:1: FutureWarning: A value is trying to be set on a copy of a DataFrame or Series through chained assignment using an inplace method.\n",
      "The behavior will change in pandas 3.0. This inplace method will never work because the intermediate object on which we are setting values always behaves as a copy.\n",
      "\n",
      "For example, when doing 'df[col].method(value, inplace=True)', try using 'df.method({col: value}, inplace=True)' or df[col] = df[col].method(value) instead, to perform the operation inplace on the original object.\n",
      "\n",
      "\n",
      "  df['Age'].fillna(df['Age'].median(), inplace=True)  # Replace missing ages with the median age\n",
      "C:\\Users\\ravin\\AppData\\Local\\Temp\\ipykernel_11068\\3345290980.py:2: FutureWarning: A value is trying to be set on a copy of a DataFrame or Series through chained assignment using an inplace method.\n",
      "The behavior will change in pandas 3.0. This inplace method will never work because the intermediate object on which we are setting values always behaves as a copy.\n",
      "\n",
      "For example, when doing 'df[col].method(value, inplace=True)', try using 'df.method({col: value}, inplace=True)' or df[col] = df[col].method(value) instead, to perform the operation inplace on the original object.\n",
      "\n",
      "\n",
      "  df['Embarked'].fillna(df['Embarked'].mode()[0], inplace=True)  # Replace missing embarkation points with the most frequent value\n"
     ]
    }
   ],
   "source": [
    "df['Age'].fillna(df['Age'].median(), inplace=True)  # Replace missing ages with the median age\n",
    "df['Embarked'].fillna(df['Embarked'].mode()[0], inplace=True)  # Replace missing embarkation points with the most frequent value"
   ]
  },
  {
   "cell_type": "markdown",
   "id": "d4d9784c",
   "metadata": {},
   "source": [
    "4. Convert and detect outliers in Fare"
   ]
  },
  {
   "cell_type": "code",
   "execution_count": 37,
   "id": "45ea7db5",
   "metadata": {
    "vscode": {
     "languageId": "ruby"
    }
   },
   "outputs": [
    {
     "name": "stdout",
     "output_type": "stream",
     "text": [
      "Q1:  8.0 Q2: 31.0 IQR: 23.0\n",
      "     PassengerId  Survived  Pclass  \\\n",
      "1              2         1       1   \n",
      "27            28         0       1   \n",
      "31            32         1       1   \n",
      "34            35         0       1   \n",
      "52            53         1       1   \n",
      "..           ...       ...     ...   \n",
      "846          847         0       3   \n",
      "849          850         1       1   \n",
      "856          857         1       1   \n",
      "863          864         0       3   \n",
      "879          880         1       1   \n",
      "\n",
      "                                                  Name     Sex   Age  SibSp  \\\n",
      "1    Cumings, Mrs. John Bradley (Florence Briggs Th...  female  38.0      1   \n",
      "27                      Fortune, Mr. Charles Alexander    male  19.0      3   \n",
      "31      Spencer, Mrs. William Augustus (Marie Eugenie)  female  28.0      1   \n",
      "34                             Meyer, Mr. Edgar Joseph    male  28.0      1   \n",
      "52            Harper, Mrs. Henry Sleeper (Myna Haxtun)  female  49.0      1   \n",
      "..                                                 ...     ...   ...    ...   \n",
      "846                           Sage, Mr. Douglas Bullen    male  28.0      8   \n",
      "849       Goldenberg, Mrs. Samuel L (Edwiga Grabowska)  female  28.0      1   \n",
      "856         Wick, Mrs. George Dennick (Mary Hitchcock)  female  45.0      1   \n",
      "863                  Sage, Miss. Dorothy Edith \"Dolly\"  female  28.0      8   \n",
      "879      Potter, Mrs. Thomas Jr (Lily Alexenia Wilson)  female  56.0      0   \n",
      "\n",
      "     Parch    Ticket      Fare        Cabin Embarked  Fare_int  \n",
      "1        0  PC 17599   71.2833          C85        C        71  \n",
      "27       2     19950  263.0000  C23 C25 C27        S       263  \n",
      "31       0  PC 17569  146.5208          B78        C       147  \n",
      "34       0  PC 17604   82.1708          NaN        C        82  \n",
      "52       0  PC 17572   76.7292          D33        C        77  \n",
      "..     ...       ...       ...          ...      ...       ...  \n",
      "846      2  CA. 2343   69.5500          NaN        S        70  \n",
      "849      0     17453   89.1042          C92        C        89  \n",
      "856      1     36928  164.8667          NaN        S       165  \n",
      "863      2  CA. 2343   69.5500          NaN        S        70  \n",
      "879      1     11767   83.1583          C50        C        83  \n",
      "\n",
      "[116 rows x 13 columns]\n"
     ]
    }
   ],
   "source": [
    "df['Fare_int'] = df['Fare'].round().astype(int) # Convert Fare to integer\n",
    "Q1 = df['Fare_int'].quantile(0.25) # 25th percentile\n",
    "Q3 = df['Fare_int'].quantile(0.75) # 75th percentile\n",
    "IQR = Q3 - Q1 # Interquartile range\n",
    "print(\"Q1: \", Q1,\"Q2:\", Q3,\"IQR:\", IQR) # Print Q1, Q3, and IQR for reference\n",
    "outliers = df[(df['Fare_int'] < Q1 - 1.5 * IQR) | (df['Fare_int'] > Q3 + 1.5 * IQR)]\n",
    "print(outliers)"
   ]
  },
  {
   "cell_type": "markdown",
   "id": "2acf73c8",
   "metadata": {},
   "source": [
    "#### Exercise 4: Pandas Essentials"
   ]
  },
  {
   "cell_type": "markdown",
   "id": "e6e51a9e",
   "metadata": {},
   "source": [
    "1. Create and inspect Series:"
   ]
  },
  {
   "cell_type": "code",
   "execution_count": 12,
   "id": "ab05b10a",
   "metadata": {},
   "outputs": [
    {
     "name": "stdout",
     "output_type": "stream",
     "text": [
      "(4,) RangeIndex(start=0, stop=4, step=1)\n"
     ]
    }
   ],
   "source": [
    "s1 = pd.Series ([1,2,4,5])\n",
    "print(s1.shape, s1.index)\n",
    "s2 = pd.Series ([1,2,4,5], index=['a', 'b', 'c', 'd'])"
   ]
  },
  {
   "cell_type": "markdown",
   "id": "01248e5c",
   "metadata": {},
   "source": [
    "2. Build DataFrame and summarize:"
   ]
  },
  {
   "cell_type": "code",
   "execution_count": 13,
   "id": "677fe030",
   "metadata": {},
   "outputs": [
    {
     "name": "stdout",
     "output_type": "stream",
     "text": [
      "<class 'pandas.core.frame.DataFrame'>\n",
      "RangeIndex: 3 entries, 0 to 2\n",
      "Data columns (total 2 columns):\n",
      " #   Column  Non-Null Count  Dtype \n",
      "---  ------  --------------  ----- \n",
      " 0   name    3 non-null      object\n",
      " 1   score   3 non-null      int64 \n",
      "dtypes: int64(1), object(1)\n",
      "memory usage: 176.0+ bytes\n"
     ]
    },
    {
     "data": {
      "text/plain": [
       "(      name  score\n",
       " 0    Alice     85\n",
       " 1      Bob     92\n",
       " 2  Charlie     78,\n",
       "       name  score\n",
       " 0    Alice     85\n",
       " 1      Bob     92\n",
       " 2  Charlie     78,\n",
       " None,\n",
       "        score\n",
       " count    3.0\n",
       " mean    85.0\n",
       " std      7.0\n",
       " min     78.0\n",
       " 25%     81.5\n",
       " 50%     85.0\n",
       " 75%     88.5\n",
       " max     92.0)"
      ]
     },
     "execution_count": 13,
     "metadata": {},
     "output_type": "execute_result"
    }
   ],
   "source": [
    "df1 = pd.DataFrame({'name': ['Alice', 'Bob', 'Charlie'], 'score': [85, 92, 78]})\n",
    "df2 = pd.DataFrame(np.random.randn(100, 3), columns=list('ABC'))\n",
    "\n",
    "df1.head(), df1. tail () , df1. info () , df1. describe()"
   ]
  },
  {
   "cell_type": "markdown",
   "id": "97c1bfde",
   "metadata": {},
   "source": [
    "3. Indexing with loc/iloc, sorting, and dropping:"
   ]
  },
  {
   "cell_type": "code",
   "execution_count": 14,
   "id": "fc481d96",
   "metadata": {},
   "outputs": [
    {
     "data": {
      "text/html": [
       "<div>\n",
       "<style scoped>\n",
       "    .dataframe tbody tr th:only-of-type {\n",
       "        vertical-align: middle;\n",
       "    }\n",
       "\n",
       "    .dataframe tbody tr th {\n",
       "        vertical-align: top;\n",
       "    }\n",
       "\n",
       "    .dataframe thead th {\n",
       "        text-align: right;\n",
       "    }\n",
       "</style>\n",
       "<table border=\"1\" class=\"dataframe\">\n",
       "  <thead>\n",
       "    <tr style=\"text-align: right;\">\n",
       "      <th></th>\n",
       "      <th>A</th>\n",
       "      <th>C</th>\n",
       "    </tr>\n",
       "  </thead>\n",
       "  <tbody>\n",
       "    <tr>\n",
       "      <th>19</th>\n",
       "      <td>2.280309</td>\n",
       "      <td>0.842856</td>\n",
       "    </tr>\n",
       "    <tr>\n",
       "      <th>23</th>\n",
       "      <td>1.915891</td>\n",
       "      <td>1.206664</td>\n",
       "    </tr>\n",
       "    <tr>\n",
       "      <th>1</th>\n",
       "      <td>1.826032</td>\n",
       "      <td>2.048091</td>\n",
       "    </tr>\n",
       "    <tr>\n",
       "      <th>8</th>\n",
       "      <td>1.813568</td>\n",
       "      <td>-0.236729</td>\n",
       "    </tr>\n",
       "    <tr>\n",
       "      <th>36</th>\n",
       "      <td>1.795745</td>\n",
       "      <td>-1.103959</td>\n",
       "    </tr>\n",
       "  </tbody>\n",
       "</table>\n",
       "</div>"
      ],
      "text/plain": [
       "           A         C\n",
       "19  2.280309  0.842856\n",
       "23  1.915891  1.206664\n",
       "1   1.826032  2.048091\n",
       "8   1.813568 -0.236729\n",
       "36  1.795745 -1.103959"
      ]
     },
     "execution_count": 14,
     "metadata": {},
     "output_type": "execute_result"
    }
   ],
   "source": [
    "df1 = pd.DataFrame({'name': ['Alice', 'Bob', 'Charlie'], 'score': [85, 92, 78]})\n",
    "df2 = pd.DataFrame(np.random.randn(100, 3), columns=list('ABC'))\n",
    "\n",
    "df1.loc[0, 'score'], df2.iloc[2]\n",
    "df2_sorted = df2.sort_values('A', ascending=False)\n",
    "df2_sorted.drop(['B'], axis=1).head()"
   ]
  },
  {
   "cell_type": "markdown",
   "id": "ab39cdda",
   "metadata": {},
   "source": [
    "4. Handle missing data:"
   ]
  },
  {
   "cell_type": "code",
   "execution_count": 15,
   "id": "abc44ac2",
   "metadata": {},
   "outputs": [
    {
     "data": {
      "text/plain": [
       "(     X    Y\n",
       " 2  3.0  3.0,\n",
       "      X    Y\n",
       " 0  1.0  0.0\n",
       " 1  0.0  2.0\n",
       " 2  3.0  3.0)"
      ]
     },
     "execution_count": 15,
     "metadata": {},
     "output_type": "execute_result"
    }
   ],
   "source": [
    "df_nan = pd.DataFrame({'X': [1, None, 3], 'Y': [None, 2, 3]})\n",
    "df_nan.dropna(), df_nan.fillna(0)"
   ]
  },
  {
   "cell_type": "markdown",
   "id": "2916f1ab",
   "metadata": {},
   "source": [
    "5. Excel I/O:"
   ]
  },
  {
   "cell_type": "code",
   "execution_count": 36,
   "id": "b11abc05",
   "metadata": {},
   "outputs": [],
   "source": [
    "df_weather = pd.read_excel('weather.xlsx')\n",
    "df_weather.tail()\n",
    "df_weather.to_excel('weather_updated.xlsx')"
   ]
  },
  {
   "cell_type": "markdown",
   "id": "6d1569cf",
   "metadata": {},
   "source": [
    "#### Exercise 5: Loading Open Dataset from UCI Repository"
   ]
  },
  {
   "cell_type": "markdown",
   "id": "14659a68",
   "metadata": {},
   "source": [
    "1. Load Wine dataset:"
   ]
  },
  {
   "cell_type": "code",
   "execution_count": null,
   "id": "5b1ee803",
   "metadata": {},
   "outputs": [
    {
     "name": "stdout",
     "output_type": "stream",
     "text": [
      "   Class  Alcohol  Malic acid   Ash  Alcalinity of ash  Magnesium  \\\n",
      "0      1    14.23        1.71  2.43               15.6        127   \n",
      "1      1    13.20        1.78  2.14               11.2        100   \n",
      "2      1    13.16        2.36  2.67               18.6        101   \n",
      "3      1    14.37        1.95  2.50               16.8        113   \n",
      "4      1    13.24        2.59  2.87               21.0        118   \n",
      "5      1    14.20        1.76  2.45               15.2        112   \n",
      "6      1    14.39        1.87  2.45               14.6         96   \n",
      "7      1    14.06        2.15  2.61               17.6        121   \n",
      "8      1    14.83        1.64  2.17               14.0         97   \n",
      "9      1    13.86        1.35  2.27               16.0         98   \n",
      "\n",
      "   Total phenols  Flavanoids  Nonflavanoid phenols  Proanthocyanins  \\\n",
      "0           2.80        3.06                  0.28             2.29   \n",
      "1           2.65        2.76                  0.26             1.28   \n",
      "2           2.80        3.24                  0.30             2.81   \n",
      "3           3.85        3.49                  0.24             2.18   \n",
      "4           2.80        2.69                  0.39             1.82   \n",
      "5           3.27        3.39                  0.34             1.97   \n",
      "6           2.50        2.52                  0.30             1.98   \n",
      "7           2.60        2.51                  0.31             1.25   \n",
      "8           2.80        2.98                  0.29             1.98   \n",
      "9           2.98        3.15                  0.22             1.85   \n",
      "\n",
      "   Color intensity   Hue  OD280/OD315 of diluted wines  Proline  \n",
      "0             5.64  1.04                          3.92     1065  \n",
      "1             4.38  1.05                          3.40     1050  \n",
      "2             5.68  1.03                          3.17     1185  \n",
      "3             7.80  0.86                          3.45     1480  \n",
      "4             4.32  1.04                          2.93      735  \n",
      "5             6.75  1.05                          2.85     1450  \n",
      "6             5.25  1.02                          3.58     1290  \n",
      "7             5.05  1.06                          3.58     1295  \n",
      "8             5.20  1.08                          2.85     1045  \n",
      "9             7.22  1.01                          3.55     1045  \n"
     ]
    }
   ],
   "source": [
    "wine_url = 'https://archive.ics.uci.edu/ml/machine-learning-databases/wine/wine.data'\n",
    "cols = ['Class', 'Alcohol', 'Malic acid', 'Ash', 'Alcalinity of ash',\n",
    "    'Magnesium', 'Total phenols', 'Flavanoids', 'Nonflavanoid phenols',\n",
    "    'Proanthocyanins', 'Color intensity', 'Hue',\n",
    "    'OD280/OD315 of diluted wines', 'Proline']\n",
    "df_wine = pd.read_csv(wine_url, names=cols)\n",
    "print(df_wine.head(10))"
   ]
  },
  {
   "cell_type": "markdown",
   "id": "6821dcac",
   "metadata": {},
   "source": [
    "2. Group by class:"
   ]
  },
  {
   "cell_type": "code",
   "execution_count": null,
   "id": "746e1b83",
   "metadata": {},
   "outputs": [
    {
     "name": "stdout",
     "output_type": "stream",
     "text": [
      "         Alcohol  Malic acid       Ash  Alcalinity of ash   Magnesium  \\\n",
      "Class                                                                   \n",
      "1      13.744746    2.010678  2.455593          17.037288  106.338983   \n",
      "2      12.278732    1.932676  2.244789          20.238028   94.549296   \n",
      "3      13.153750    3.333750  2.437083          21.416667   99.312500   \n",
      "\n",
      "       Total phenols  Flavanoids  Nonflavanoid phenols  Proanthocyanins  \\\n",
      "Class                                                                     \n",
      "1           2.840169    2.982373              0.290000         1.899322   \n",
      "2           2.258873    2.080845              0.363662         1.630282   \n",
      "3           1.678750    0.781458              0.447500         1.153542   \n",
      "\n",
      "       Color intensity       Hue  OD280/OD315 of diluted wines      Proline  \n",
      "Class                                                                        \n",
      "1             5.528305  1.062034                      3.157797  1115.711864  \n",
      "2             3.086620  1.056282                      2.785352   519.507042  \n",
      "3             7.396250  0.682708                      1.683542   629.895833  \n"
     ]
    }
   ],
   "source": [
    "wine_means = df_wine.groupby(\"Class\").mean()\n",
    "print(wine_means)"
   ]
  },
  {
   "cell_type": "markdown",
   "id": "91b1ca59",
   "metadata": {},
   "source": [
    "#### Exercise 6: scikit-learn Iris Dataset (Extended)"
   ]
  },
  {
   "cell_type": "markdown",
   "id": "ca622751",
   "metadata": {},
   "source": [
    "1. Load and preview Iris:"
   ]
  },
  {
   "cell_type": "code",
   "execution_count": null,
   "id": "549957c2",
   "metadata": {},
   "outputs": [
    {
     "name": "stdout",
     "output_type": "stream",
     "text": [
      "   sepal length (cm)  sepal width (cm)  petal length (cm)  petal width (cm)  \\\n",
      "0                5.1               3.5                1.4               0.2   \n",
      "1                4.9               3.0                1.4               0.2   \n",
      "2                4.7               3.2                1.3               0.2   \n",
      "3                4.6               3.1                1.5               0.2   \n",
      "4                5.0               3.6                1.4               0.2   \n",
      "\n",
      "   target  \n",
      "0       0  \n",
      "1       0  \n",
      "2       0  \n",
      "3       0  \n",
      "4       0  \n"
     ]
    }
   ],
   "source": [
    "from sklearn import datasets\n",
    "\n",
    "iris = datasets.load_iris()\n",
    "df_iris = pd.DataFrame(iris.data, columns=iris.feature_names)\n",
    "df_iris['target'] = iris.target\n",
    "print(df_iris.head())"
   ]
  },
  {
   "cell_type": "markdown",
   "id": "8f0fbabb",
   "metadata": {},
   "source": [
    "2. Train/test split:"
   ]
  },
  {
   "cell_type": "code",
   "execution_count": null,
   "id": "ba5403e5",
   "metadata": {},
   "outputs": [],
   "source": [
    "from sklearn.model_selection import train_test_split\n",
    "\n",
    "X_train, X_test, y_train, y_test = train_test_split(\n",
    "    df_iris[iris.feature_names], df_iris['target'],\n",
    "    test_size=0.3, random_state=42)"
   ]
  },
  {
   "cell_type": "markdown",
   "id": "8740550f",
   "metadata": {},
   "source": [
    "3. Model training and evaluation:"
   ]
  },
  {
   "cell_type": "code",
   "execution_count": null,
   "id": "0e7e861b",
   "metadata": {},
   "outputs": [
    {
     "name": "stdout",
     "output_type": "stream",
     "text": [
      "              precision    recall  f1-score   support\n",
      "\n",
      "           0       1.00      1.00      1.00        19\n",
      "           1       1.00      1.00      1.00        13\n",
      "           2       1.00      1.00      1.00        13\n",
      "\n",
      "    accuracy                           1.00        45\n",
      "   macro avg       1.00      1.00      1.00        45\n",
      "weighted avg       1.00      1.00      1.00        45\n",
      "\n"
     ]
    }
   ],
   "source": [
    "from sklearn.linear_model import LogisticRegression\n",
    "from sklearn.metrics import classification_report\n",
    "\n",
    "model = LogisticRegression(max_iter=200)\n",
    "model.fit(X_train, y_train)\n",
    "y_pred = model.predict(X_test)\n",
    "print(classification_report(y_test, y_pred))"
   ]
  }
 ],
 "metadata": {
  "kernelspec": {
   "display_name": "venv",
   "language": "python",
   "name": "python3"
  },
  "language_info": {
   "codemirror_mode": {
    "name": "ipython",
    "version": 3
   },
   "file_extension": ".py",
   "mimetype": "text/x-python",
   "name": "python",
   "nbconvert_exporter": "python",
   "pygments_lexer": "ipython3",
   "version": "3.9.13"
  }
 },
 "nbformat": 4,
 "nbformat_minor": 5
}
